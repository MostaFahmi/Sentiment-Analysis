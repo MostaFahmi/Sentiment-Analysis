{
 "cells": [
  {
   "cell_type": "markdown",
   "id": "dba63951",
   "metadata": {},
   "source": [
    "# | AMAZON SENTIMENT ANALYSIS "
   ]
  },
  {
   "cell_type": "markdown",
   "id": "fab7f50f",
   "metadata": {},
   "source": [
    "# Installing and Importing The Libraries"
   ]
  },
  {
   "cell_type": "code",
   "execution_count": 3,
   "id": "6b46499f",
   "metadata": {},
   "outputs": [
    {
     "name": "stderr",
     "output_type": "stream",
     "text": [
      "[nltk_data] Downloading package vader_lexicon to\n",
      "[nltk_data]     C:\\Users\\mosta\\AppData\\Roaming\\nltk_data...\n",
      "[nltk_data]   Package vader_lexicon is already up-to-date!\n",
      "C:\\Users\\mosta\\anaconda3\\Lib\\site-packages\\paramiko\\transport.py:219: CryptographyDeprecationWarning:\n",
      "\n",
      "Blowfish has been deprecated\n",
      "\n"
     ]
    }
   ],
   "source": [
    "# Importing Libraries\n",
    "\n",
    "import numpy as np\n",
    "import pandas as pd\n",
    "import matplotlib.pyplot as plt\n",
    "import seaborn as sns\n",
    "\n",
    "import nltk\n",
    "from nltk.sentiment.vader import SentimentIntensityAnalyzer\n",
    "\n",
    "nltk.download('vader_lexicon')\n",
    "\n",
    "\n",
    "import re\n",
    "from textblob import TextBlob\n",
    "\n",
    "from wordcloud import WordCloud\n",
    "import cufflinks as cf\n",
    "\n",
    "%matplotlib inline\n",
    "import plotly.graph_objs as go\n",
    "from plotly.subplots import make_subplots\n",
    "\n",
    "import warnings\n",
    "warnings.filterwarnings(\"ignore\")\n",
    "warnings.warn('this will not show')\n",
    "\n",
    "from tqdm import tqdm\n",
    "\n",
    "pd.set_option('display.max_columns', None)"
   ]
  },
  {
   "cell_type": "code",
   "execution_count": 4,
   "id": "6ced2b3f",
   "metadata": {},
   "outputs": [
    {
     "name": "stdout",
     "output_type": "stream",
     "text": [
      "Requirement already satisfied: textblob in c:\\users\\mosta\\anaconda3\\lib\\site-packages (0.17.1)\n",
      "Requirement already satisfied: nltk>=3.1 in c:\\users\\mosta\\anaconda3\\lib\\site-packages (from textblob) (3.7)\n",
      "Requirement already satisfied: click in c:\\users\\mosta\\anaconda3\\lib\\site-packages (from nltk>=3.1->textblob) (8.0.4)\n",
      "Requirement already satisfied: joblib in c:\\users\\mosta\\anaconda3\\lib\\site-packages (from nltk>=3.1->textblob) (1.2.0)\n",
      "Requirement already satisfied: regex>=2021.8.3 in c:\\users\\mosta\\anaconda3\\lib\\site-packages (from nltk>=3.1->textblob) (2022.7.9)\n",
      "Requirement already satisfied: tqdm in c:\\users\\mosta\\anaconda3\\lib\\site-packages (from nltk>=3.1->textblob) (4.65.0)\n",
      "Requirement already satisfied: colorama in c:\\users\\mosta\\anaconda3\\lib\\site-packages (from click->nltk>=3.1->textblob) (0.4.6)\n"
     ]
    }
   ],
   "source": [
    "# installing textblob\n",
    "!pip install textblob"
   ]
  },
  {
   "cell_type": "code",
   "execution_count": null,
   "id": "426d17dc",
   "metadata": {},
   "outputs": [],
   "source": [
    "# installing wordcloud\n",
    "!pip install wordcloud"
   ]
  },
  {
   "cell_type": "code",
   "execution_count": null,
   "id": "c48184a9",
   "metadata": {},
   "outputs": [],
   "source": [
    "# installing cufflinks\n",
    "!pip install cufflinks"
   ]
  },
  {
   "cell_type": "markdown",
   "id": "d8b4da9b",
   "metadata": {},
   "source": [
    "# Reading the file"
   ]
  },
  {
   "cell_type": "code",
   "execution_count": null,
   "id": "d54905d9",
   "metadata": {},
   "outputs": [],
   "source": [
    "df = pd.read_csv(r'E:\\The Journey\\Career\\Data Science\\_Portfolio Projects\\Python Projects\\Sentiment-Analysis-Amazon\\amazon.csv')\n",
    "df.head()"
   ]
  },
  {
   "cell_type": "code",
   "execution_count": null,
   "id": "da12a180",
   "metadata": {},
   "outputs": [],
   "source": [
    "# modifying the df format\n",
    "\n",
    "df = df.sort_values('wilson_lower_bound', ascending = False)\n",
    "df.drop('Unnamed: 0', inplace = True, axis = 1)\n",
    "df.head()"
   ]
  },
  {
   "cell_type": "markdown",
   "id": "b5483e57",
   "metadata": {},
   "source": [
    "# Exploring and Preparing The Dataset"
   ]
  },
  {
   "cell_type": "code",
   "execution_count": null,
   "id": "4dcd1d64",
   "metadata": {},
   "outputs": [],
   "source": [
    "# Defining null values analysis function\n",
    "\n",
    "def missing_values_analysis(df):\n",
    "    na_columns = [col for col in df.columns if df[col].isnull().sum() > 0]\n",
    "    n_miss = df[na_columns].isnull().sum().sort_values(ascending = True)\n",
    "    ratio_ = (df[na_columns].isnull().sum() / df.shape[0]*100).sort_values(ascending = True)\n",
    "    missing_df = pd.concat([n_miss , np.round(ratio_,2)], axis = 1, keys=['Missing Values','Ratio'])\n",
    "    return missing_df\n",
    "\n",
    "# Defining Overview function\n",
    "\n",
    "def dataframe_overview(df, head=5, tail=5):\n",
    "    print('SHAPE'.center(82,'~'))\n",
    "    print('Row: {}'.format(df.shape[0]))\n",
    "    print('Column: {}'.format(df.shape[1]))\n",
    "    print('TYPES'.center(82,'~'))\n",
    "    print(df.dtypes)\n",
    "    print(''.center(82,'~'))\n",
    "    print(missing_values_analysis(df))\n",
    "    print('DUPLICATION'.center(83,'~'))\n",
    "    print(df.duplicated().sum())\n",
    "    print('QUANTILES'.center(82,'~'))\n",
    "    print(df.quantile([0,0.05, 0.5, 0.95, 0.99, 1]).T)\n",
    "    \n",
    "dataframe_overview(df)\n",
    "    \n",
    "    \n",
    "    "
   ]
  },
  {
   "cell_type": "code",
   "execution_count": null,
   "id": "be3ce3ee",
   "metadata": {},
   "outputs": [],
   "source": [
    "# Check uniqueness\n",
    "\n",
    "def check_uniqueness(df):\n",
    "    nunique_df = pd.DataFrame({'Column': df.columns, \n",
    "                              'Nunique': [df[col].nunique()\\\n",
    "                                          for col in df.columns]})\n",
    "    nunique_df = nunique_df.sort_values('Nunique', ascending = False)\n",
    "    nunique_df = nunique_df.reset_index(drop = True)\n",
    "    return nunique_df\n",
    "\n",
    "check_uniqueness(df)"
   ]
  },
  {
   "cell_type": "markdown",
   "id": "7725ade2",
   "metadata": {},
   "source": [
    "# Categorical Data Overview"
   ]
  },
  {
   "cell_type": "code",
   "execution_count": null,
   "id": "771e1735",
   "metadata": {},
   "outputs": [],
   "source": [
    "# My Color Palette\n",
    "\n",
    "colors = ['#FF5733', '#33FF57', '#5733FF', '#FF33A1', '#33A1FF']\n",
    "\n",
    "# Function Defination\n",
    "\n",
    "def categorical_variable_summary(df, column_name):\n",
    "    fig = make_subplots(rows = 1,\n",
    "                       cols = 2,\n",
    "                       subplot_titles = ('Countplot','Percentages'),\n",
    "                       specs = [[{'type':'xy'},{'type':'domain'}]])\n",
    "    \n",
    "# Bar Plot Defination \n",
    "\n",
    "    fig.add_trace(go.Bar(x = [str(i) for i in df[column_name].value_counts().index],\n",
    "                         y = df[column_name].value_counts().values.tolist(),\n",
    "                         text = df[column_name].value_counts().values.tolist(),\n",
    "                         textfont = dict(size = 15),\n",
    "                         textposition = 'auto',\n",
    "                         showlegend = False,\n",
    "                         marker = dict(color = colors,\n",
    "                                     line = dict(color = '#DBE6EC',\n",
    "                                                width = 1))),\n",
    "                row = 1, col = 1)\n",
    "    \n",
    "    \n",
    "# Pie Plot Defination\n",
    "\n",
    "    fig.add_trace(go.Pie(labels = [str(i) for i in df[column_name].value_counts().keys()],\n",
    "                         values = df[column_name].value_counts().values,\n",
    "                         textfont = dict(size = 20),\n",
    "                         textposition = 'auto',\n",
    "                         showlegend = False,\n",
    "                         marker = dict(colors = colors)),\n",
    "                 row = 1, col = 2)\n",
    "    \n",
    "    fig.update_layout(title={'text':column_name,\n",
    "                             'y' : 0.9,\n",
    "                             'x' : 0.5,\n",
    "                             'xanchor':'center',\n",
    "                             'yanchor':'top'},\n",
    "                     template = 'plotly_white')\n",
    "    fig.show()\n",
    "                       "
   ]
  },
  {
   "cell_type": "markdown",
   "id": "ceea66ff",
   "metadata": {},
   "source": [
    "# Overview on Overall Score"
   ]
  },
  {
   "cell_type": "code",
   "execution_count": null,
   "id": "7ba209b4",
   "metadata": {
    "scrolled": true
   },
   "outputs": [],
   "source": [
    "categorical_variable_summary(df,'overall')"
   ]
  },
  {
   "cell_type": "markdown",
   "id": "a9fb3d54",
   "metadata": {},
   "source": [
    "# Cleaning The Underlined Texts for Analysis"
   ]
  },
  {
   "cell_type": "code",
   "execution_count": null,
   "id": "58ababaa",
   "metadata": {},
   "outputs": [],
   "source": [
    "# Having a glance on what the review comments have\n",
    "\n",
    "df.reviewText.head()"
   ]
  },
  {
   "cell_type": "code",
   "execution_count": null,
   "id": "4b857ce1",
   "metadata": {},
   "outputs": [],
   "source": [
    "# Example of a review\n",
    "\n",
    "review_example = df.reviewText[2031]\n",
    "review_example"
   ]
  },
  {
   "cell_type": "code",
   "execution_count": null,
   "id": "2d1e5268",
   "metadata": {},
   "outputs": [],
   "source": [
    "# Example of removing any character which is not a letter\n",
    "\n",
    "review_example = re.sub('[^a-zA-Z]',' ',review_example)\n",
    "review_example"
   ]
  },
  {
   "cell_type": "code",
   "execution_count": null,
   "id": "b88e0c51",
   "metadata": {},
   "outputs": [],
   "source": [
    "review_example = review_example.lower().split()"
   ]
  },
  {
   "cell_type": "code",
   "execution_count": null,
   "id": "873a7989",
   "metadata": {},
   "outputs": [],
   "source": [
    "review_example"
   ]
  },
  {
   "cell_type": "code",
   "execution_count": null,
   "id": "4be2ac2d",
   "metadata": {},
   "outputs": [],
   "source": [
    "# Cleaing The Actual Underlined Text\n",
    "\n",
    "rt = lambda x : re.sub('[^a-zA-Z]',' ',str(x))\n",
    "df['reviewText'] = df['reviewText'].map(rt)\n",
    "df['reviewText'] = df['reviewText'].str.lower()\n",
    "df.head()"
   ]
  },
  {
   "cell_type": "markdown",
   "id": "992e78e7",
   "metadata": {},
   "source": [
    "# Sentiment Analysis"
   ]
  },
  {
   "cell_type": "code",
   "execution_count": null,
   "id": "05257771",
   "metadata": {},
   "outputs": [],
   "source": [
    "# General Sentiment Analysis with TextBlob\n",
    "\n",
    "df[['polarity','subjectivity']] = df['reviewText'].apply(lambda Text: pd.Series(TextBlob(Text).sentiment))\n",
    "\n",
    "# Detailed Sentiment Analysis with SentimentIntensityAnalyzer\n",
    "for lab,row in tqdm(df['reviewText'].iteritems(),total = len(df)):\n",
    "    \n",
    "    score = SentimentIntensityAnalyzer().polarity_scores(row) #dict\n",
    "    \n",
    "    neg = score['neg'] #calling dict_key to get dict_value\n",
    "    neu = score['neu']\n",
    "    pos = score['pos']\n",
    "    \n",
    "    if neg>pos:\n",
    "        df.loc[lab,'sentiment'] = 'Negative'\n",
    "    elif pos>neg:\n",
    "        df.loc[lab,'sentiment'] = 'Positive'\n",
    "    else:\n",
    "        df.loc[lab,'sentiment'] = 'Neutral'"
   ]
  },
  {
   "cell_type": "code",
   "execution_count": null,
   "id": "4a79c182",
   "metadata": {},
   "outputs": [],
   "source": [
    "# Having a look\n",
    "\n",
    "df[df['sentiment']=='Positive'].sort_values('wilson_lower_bound',ascending = False).head(5)"
   ]
  },
  {
   "cell_type": "markdown",
   "id": "1aa4a9fd",
   "metadata": {},
   "source": [
    "## Sentiment Analysis Plotting"
   ]
  },
  {
   "cell_type": "code",
   "execution_count": null,
   "id": "4b84b930",
   "metadata": {
    "scrolled": false
   },
   "outputs": [],
   "source": [
    "categorical_variable_summary(df,'sentiment')"
   ]
  },
  {
   "cell_type": "markdown",
   "id": "f6a92119",
   "metadata": {},
   "source": [
    "## The Sentiment and The Overall Score "
   ]
  },
  {
   "cell_type": "code",
   "execution_count": null,
   "id": "a42ff10e",
   "metadata": {},
   "outputs": [],
   "source": [
    "# overall_vs_sentiment Series\n",
    "\n",
    "overall_vs_sentiment = df.groupby('sentiment')['overall'].value_counts().sort_index(level=['sentiment','overall'])\n",
    "overall_vs_sentiment"
   ]
  },
  {
   "cell_type": "code",
   "execution_count": null,
   "id": "15bc6ad5",
   "metadata": {},
   "outputs": [],
   "source": [
    "# overall_vs_sentiment Plot\n",
    "\n",
    "# My Color Palette\n",
    "\n",
    "colors = ['#FF5733', '#33FF57', '#5733FF', '#FF33A1', '#33A1FF']\n",
    "\n",
    "fig = make_subplots(rows = 1,\n",
    "                       cols = 3,\n",
    "                       subplot_titles = ('Negative','Neutral','Positive'),\n",
    "                       specs = [[{'type':'xy'},{'type':'xy'},{'type':'xy'}]],\n",
    "                       shared_yaxes=True)\n",
    "\n",
    "\n",
    "# Negative Sentiment vs Overall Score Plot\n",
    "\n",
    "fig.add_trace(go.Bar(x = [str(i) for i in overall_vs_sentiment.loc['Negative'].index],\n",
    "                     y = overall_vs_sentiment.loc['Negative'].values.tolist(),\n",
    "                     text = overall_vs_sentiment.values.tolist(),\n",
    "                     textfont = dict(size = 15),\n",
    "                     textposition = 'auto',\n",
    "                     showlegend = False,\n",
    "                     marker = dict(color = colors,\n",
    "                                    line = dict(color = '#DBE6EC',\n",
    "                                                width = 1))),\n",
    "                row = 1, col = 1)\n",
    "\n",
    "# Neutral Sentiment vs Overall Score Plot\n",
    "\n",
    "fig.add_trace(go.Bar(x = overall_vs_sentiment.loc['Neutral'].index,\n",
    "                     y = overall_vs_sentiment.loc['Neutral'].values.tolist(),\n",
    "                     text = overall_vs_sentiment.loc['Neutral'].values.tolist(),\n",
    "                     textfont = dict(size = 15),\n",
    "                     textposition = 'auto',\n",
    "                     showlegend = False,\n",
    "                     marker = dict(color = colors,\n",
    "                                    line = dict(color = '#DBE6EC',\n",
    "                                                width = 1))),\n",
    "                row = 1, col = 2)\n",
    "\n",
    "# Positive Sentiment vs Overall Score Plot\n",
    "\n",
    "fig.add_trace(go.Bar(x = overall_vs_sentiment.loc['Positive'].index,\n",
    "                     y = overall_vs_sentiment.loc['Positive'].values.tolist(),\n",
    "                     text = overall_vs_sentiment.loc['Positive'].values.tolist(),\n",
    "                     textfont = dict(size = 15),\n",
    "                     textposition = 'auto',\n",
    "                     showlegend = False,\n",
    "                     marker = dict(color = colors,\n",
    "                                    line = dict(color = '#DBE6EC',\n",
    "                                                width = 1))),\n",
    "                row = 1, col = 3)\n",
    "fig.show()\n",
    "\n",
    "    "
   ]
  }
 ],
 "metadata": {
  "kernelspec": {
   "display_name": "Python 3 (ipykernel)",
   "language": "python",
   "name": "python3"
  },
  "language_info": {
   "codemirror_mode": {
    "name": "ipython",
    "version": 3
   },
   "file_extension": ".py",
   "mimetype": "text/x-python",
   "name": "python",
   "nbconvert_exporter": "python",
   "pygments_lexer": "ipython3",
   "version": "3.11.3"
  }
 },
 "nbformat": 4,
 "nbformat_minor": 5
}
